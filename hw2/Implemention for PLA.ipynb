{
 "cells": [
  {
   "cell_type": "code",
   "execution_count": 1,
   "metadata": {},
   "outputs": [],
   "source": [
    "import pandas as pd\n",
    "import numpy as np\n",
    "%matplotlib inline \n",
    "#不加这句话plot无法显示\n",
    "import matplotlib.pyplot as plt"
   ]
  },
  {
   "cell_type": "code",
   "execution_count": 2,
   "metadata": {},
   "outputs": [
    {
     "name": "stdout",
     "output_type": "stream",
     "text": [
      "           A          B\n",
      "0  -5.478345  22.994729\n",
      "1 -12.793162  23.927106\n",
      "2  13.127547 -23.107034\n",
      "3   1.900627 -22.900838\n",
      "4  13.463996 -21.418602 \n",
      "\n",
      "   label\n",
      "0      1\n",
      "1      1\n",
      "2      0\n",
      "3      0\n",
      "4      0 \n",
      "\n",
      "A    float64\n",
      "B    float64\n",
      "dtype: object \n",
      "\n",
      " label    int32\n",
      "dtype: object A    float64\n",
      "B    float64\n",
      "dtype: object label    int32\n",
      "dtype: object\n"
     ]
    }
   ],
   "source": [
    "#导入数据\n",
    "train_data_file = './PLA_a/train_data.csv'\n",
    "train_label_file = './PLA_a/train_label.csv'\n",
    "test_data_file = './PLA_a/test_data.csv'\n",
    "test_label_file = './PLA_a/test_label.csv'\n",
    "\n",
    "train_data = pd.read_csv(train_data_file,header=0)\n",
    "train_label = pd.read_csv(train_label_file,header=0) #header=0表示第一行作为列的名称\n",
    "test_data = pd.read_csv(test_data_file,header=0)\n",
    "test_label= pd.read_csv(test_label_file,header=0)\n",
    "print(train_data.head(),'\\n')\n",
    "print(train_label.head(),'\\n')\n",
    "\n",
    "train_data = train_data.astype(float)\n",
    "train_label = train_label.astype(int)\n",
    "test_data = test_data.astype(float)\n",
    "test_label = test_label.astype(int)\n",
    "\n",
    "print(train_data.dtypes,'\\n\\n',train_label.dtypes,test_data.dtypes,test_label.dtypes)"
   ]
  },
  {
   "cell_type": "code",
   "execution_count": 3,
   "metadata": {},
   "outputs": [],
   "source": [
    "#清洗数据\n",
    "train_data=np.array(train_data); #用AB做索引不习惯，就转成numpy了\n",
    "train_label=np.array(train_label);\n",
    "train_label = np.where(train_label==1,1,-1)#把label里0替换为-1，方便后面计算符号\n",
    "test_data=np.array(test_data);\n",
    "test_label=np.array(test_label);\n",
    "test_label = np.where(test_label==1,1,-1)\n",
    "\n",
    "train_data = np.concatenate((train_data,np.ones((train_data.shape[0],1))),axis=1) #添加一列1"
   ]
  },
  {
   "cell_type": "code",
   "execution_count": 4,
   "metadata": {},
   "outputs": [
    {
     "data": {
      "image/png": "[encoded data removed]",
      "text/plain": [
       "<Figure size 432x288 with 1 Axes>"
      ]
     },
     "metadata": {
      "needs_background": "light"
     },
     "output_type": "display_data"
    }
   ],
   "source": [
    "#数据可视化\n",
    "#print(train_data[6],train_data[6].dot([0,1,0]))\n",
    "def visulize_data(data,label):\n",
    "    z1=data[np.where(label == 1)[0]]\n",
    "    z2=data[np.where(label != 1)[0]]\n",
    "    fig = plt.figure()\n",
    "    ax = plt.subplot(111)\n",
    "    ax.plot(z1[:,0], z1[:,1],'*',label = '$y = 1$')\n",
    "    ax.plot(z2[:,0], z2[:,1],'r*', label = '$y = 0$')\n",
    "    plt.title('Visualization of Dataset')\n",
    "    ax.legend(loc = 'upper left', fontsize = 'small')\n",
    "\n",
    "visulize_data(train_data,train_label)"
   ]
  },
  {
   "cell_type": "code",
   "execution_count": 5,
   "metadata": {},
   "outputs": [],
   "source": [
    "def pla(data,label):\n",
    "    w = np.random.randn(3)#data[0]\n",
    "    print('w0=',w)\n",
    "    all_correct = False\n",
    "    error_history=[]\n",
    "    while not all_correct:\n",
    "        err_num = 0 #每次训练从头开始时，错判个数重置\n",
    "        all_correct = True\n",
    "        for i in range(data.shape[0]):\n",
    "            temp = np.dot(w,data[i])\n",
    "            #if temp == 0:\n",
    "            #    temp == -1\n",
    "            if np.sign(temp) != np.sign(label[i]):\n",
    "                w += label[i]*data[i]\n",
    "                all_correct = False\n",
    "                err_num +=1\n",
    "        error_history.append(err_num)\n",
    "    return w,error_history\n",
    "    "
   ]
  },
  {
   "cell_type": "code",
   "execution_count": 6,
   "metadata": {},
   "outputs": [
    {
     "name": "stdout",
     "output_type": "stream",
     "text": [
      "w0= [-0.70664501  0.89753538 -0.7392251 ]\n",
      "w= [-33.86918985  22.48463731   0.2607749 ]\n",
      "[2, 1, 0]\n"
     ]
    }
   ],
   "source": [
    "w,error_history = pla(train_data,train_label)\n",
    "print('w=',w)\n",
    "print(error_history)"
   ]
  },
  {
   "cell_type": "code",
   "execution_count": 7,
   "metadata": {
    "scrolled": false
   },
   "outputs": [
    {
     "data": {
      "text/html": [
       "<div>\n",
       "<style scoped>\n",
       "    .dataframe tbody tr th:only-of-type {\n",
       "        vertical-align: middle;\n",
       "    }\n",
       "\n",
       "    .dataframe tbody tr th {\n",
       "        vertical-align: top;\n",
       "    }\n",
       "\n",
       "    .dataframe thead th {\n",
       "        text-align: right;\n",
       "    }\n",
       "</style>\n",
       "<table border=\"1\" class=\"dataframe\">\n",
       "  <thead>\n",
       "    <tr style=\"text-align: right;\">\n",
       "      <th></th>\n",
       "      <th>in-sample error</th>\n",
       "    </tr>\n",
       "  </thead>\n",
       "  <tbody>\n",
       "    <tr>\n",
       "      <th>0</th>\n",
       "      <td>2</td>\n",
       "    </tr>\n",
       "    <tr>\n",
       "      <th>1</th>\n",
       "      <td>1</td>\n",
       "    </tr>\n",
       "    <tr>\n",
       "      <th>2</th>\n",
       "      <td>0</td>\n",
       "    </tr>\n",
       "  </tbody>\n",
       "</table>\n",
       "</div>"
      ],
      "text/plain": [
       "   in-sample error\n",
       "0                2\n",
       "1                1\n",
       "2                0"
      ]
     },
     "execution_count": 7,
     "metadata": {},
     "output_type": "execute_result"
    },
    {
     "data": {
      "image/png": "[encoded data removed]",
      "text/plain": [
       "<Figure size 432x288 with 1 Axes>"
      ]
     },
     "metadata": {
      "needs_background": "light"
     },
     "output_type": "display_data"
    }
   ],
   "source": [
    "#test data分割\n",
    "visulize_data(test_data,test_label)\n",
    "y_1= -w[0]/w[1]*-20 - w[2]/w[1]\n",
    "y_2= -w[0]/w[1]*20 - w[2]/w[1]\n",
    "plt.plot([-20,20],[y_1,y_2])\n",
    "pd.DataFrame(error_history,columns=['in-sample error'])"
   ]
  },
  {
   "cell_type": "code",
   "execution_count": null,
   "metadata": {},
   "outputs": [],
   "source": []
  }
 ],
 "metadata": {
  "kernelspec": {
   "display_name": "Python 3",
   "language": "python",
   "name": "python3"
  },
  "language_info": {
   "codemirror_mode": {
    "name": "ipython",
    "version": 3
   },
   "file_extension": ".py",
   "mimetype": "text/x-python",
   "name": "python",
   "nbconvert_exporter": "python",
   "pygments_lexer": "ipython3",
   "version": "3.7.1"
  }
 },
 "nbformat": 4,
 "nbformat_minor": 2
}
